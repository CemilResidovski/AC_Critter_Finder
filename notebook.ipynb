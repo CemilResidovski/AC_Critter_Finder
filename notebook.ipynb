{
 "cells": [
  {
   "cell_type": "markdown",
   "metadata": {},
   "source": [
    "### Type 'import main' to run Critter Finder program"
   ]
  },
  {
   "cell_type": "code",
   "execution_count": null,
   "metadata": {},
   "outputs": [
    {
     "name": "stdout",
     "output_type": "stream",
     "text": [
      "Meta commands: quit, help\n",
      "Remember to at least include \"bug\" or \"fish\" when searching for fish/bugs\n",
      "\n",
      "Search: fish new\n",
      "Loading fish db for the first time, please be patient\n",
      "Searching for new fish this month...\n",
      "Hammerhead Shark, Ribbon Eel, Suckerfish, Giant Snakehead, Dorado, Saw Shark, Great White Shark, Saddled Bichir, Piranha, Tilapia, Whale Shark, Arapaima, Arowana\n",
      "\n"
     ]
    }
   ],
   "source": [
    "import main"
   ]
  }
 ],
 "metadata": {
  "kernelspec": {
   "display_name": "Python 3.6.4 64-bit",
   "language": "python",
   "name": "python36464bite007dd78ba4541a6bdab29014adfb75c"
  },
  "language_info": {
   "codemirror_mode": {
    "name": "ipython",
    "version": 3
   },
   "file_extension": ".py",
   "mimetype": "text/x-python",
   "name": "python",
   "nbconvert_exporter": "python",
   "pygments_lexer": "ipython3",
   "version": "3.6.4"
  }
 },
 "nbformat": 4,
 "nbformat_minor": 2
}
